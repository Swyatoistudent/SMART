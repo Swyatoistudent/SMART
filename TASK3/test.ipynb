{
 "cells": [
  {
   "cell_type": "code",
   "execution_count": 13,
   "metadata": {},
   "outputs": [],
   "source": [
    "comment  = 'Produto não recomendo não ler em nenhum dispositivo'\n",
    "comment = comment.lower()\n"
   ]
  },
  {
   "cell_type": "code",
   "execution_count": 14,
   "metadata": {},
   "outputs": [],
   "source": [
    "import re\n",
    "import tensorflow as tf\n",
    "import numpy as np\n",
    "import pandas as pd\n",
    "from tensorflow.keras.preprocessing.text import Tokenizer\n",
    "from tensorflow.keras.preprocessing.sequence import pad_sequences"
   ]
  },
  {
   "cell_type": "markdown",
   "metadata": {},
   "source": [
    "Model trained on order_reviews"
   ]
  },
  {
   "cell_type": "code",
   "execution_count": 31,
   "metadata": {},
   "outputs": [
    {
     "name": "stdout",
     "output_type": "stream",
     "text": [
      "\u001b[1m2/2\u001b[0m \u001b[32m━━━━━━━━━━━━━━━━━━━━\u001b[0m\u001b[37m\u001b[0m \u001b[1m1s\u001b[0m 766ms/step\n"
     ]
    }
   ],
   "source": [
    "\n",
    "order_reviews_path = '/Users/sviat/Downloads/OneDrive_1_30-04-2024/S_Data/order_reviews.csv'\n",
    "\n",
    "#  tokanizer fit\n",
    "train_data = pd.read_csv(order_reviews_path)\n",
    "train_data = train_data[['review_comment_message', 'review_score']]\n",
    "train_data = train_data.dropna()\n",
    "train_data = train_data.rename(\n",
    "    columns={'review_comment_message': 'text', 'review_score': 'score'})\n",
    "train_data[\"score\"] = train_data[\"score\"].astype('category')\n",
    "train_data[\"score_label\"] = train_data[\"score\"].cat.codes\n",
    "train_features, train_labels = train_data['text'], tf.one_hot(\n",
    "    train_data[\"score_label\"], 5)\n",
    "d = dict(enumerate(train_data[\"score\"].cat.categories))\n",
    "sentiment = {0:'Negative',1:'Negative',2:'Neutral',3:'Positive',4:'Positive'}\n",
    "\n",
    "vocab_size = 15000\n",
    "vector_size = 100\n",
    "max_seq_len = 20\n",
    "tokenizer = Tokenizer(oov_token=\"<OOV>\", num_words=vocab_size)\n",
    "tokenizer.fit_on_texts(train_data['text'])\n",
    "sequences_train = tokenizer.texts_to_sequences(comment)\n",
    "\n",
    "padded_train = pad_sequences(\n",
    "    sequences_train, padding='post', maxlen=max_seq_len)\n",
    "\n",
    "\n",
    "# path to model\n",
    "model = tf.keras.models.load_model('models/lstm1.keras')\n",
    "p = (model.predict(padded_train)> 0.5).astype(\"int32\")\n",
    "predict = np.array(tf.argmax(p, axis=1))"
   ]
  },
  {
   "cell_type": "code",
   "execution_count": 34,
   "metadata": {},
   "outputs": [
    {
     "name": "stdout",
     "output_type": "stream",
     "text": [
      "produto não recomendo não ler em nenhum dispositivo\n",
      "score: 1\n",
      "sentiment: Negative\n"
     ]
    }
   ],
   "source": [
    "print(comment)\n",
    "print(\"score:\",d[predict[0]])\n",
    "print(\"sentiment:\",sentiment[predict[0]])"
   ]
  },
  {
   "cell_type": "markdown",
   "metadata": {},
   "source": [
    "Model trained on dataset from kaggle \n",
    "link :  https://www.kaggle.com/datasets/leandrodoze/tweets-from-mgbr"
   ]
  },
  {
   "cell_type": "code",
   "execution_count": 35,
   "metadata": {},
   "outputs": [
    {
     "name": "stdout",
     "output_type": "stream",
     "text": [
      "\u001b[1m2/2\u001b[0m \u001b[32m━━━━━━━━━━━━━━━━━━━━\u001b[0m\u001b[37m\u001b[0m \u001b[1m1s\u001b[0m 354ms/step\n"
     ]
    }
   ],
   "source": [
    "# https://www.kaggle.com/datasets/leandrodoze/tweets-from-mgbr\n",
    "data_path = '/Users/sviat/SMART/SMART/Tweets_Mg.csv'\n",
    "\n",
    "#  tokanizer fit\n",
    "train_data = pd.read_csv(data_path)\n",
    "train_data = train_data[['Text', 'Classificacao']]\n",
    "train_data = train_data.dropna()\n",
    "train_data = train_data.reset_index()\n",
    "train_data = train_data.rename(\n",
    "    columns={'Text': 'text', 'Classificacao': 'score'})\n",
    "\n",
    "\n",
    "for i in range(len(train_data)):\n",
    "    train_data.loc[i,'text'] = train_data.loc[i,'text'].lower()\n",
    "\n",
    "for i in range(len(train_data)):\n",
    "    train_data.loc[i,'text'] = re.sub(\n",
    "        pattern=r'[\\w]*[^\\w\\s][\\w]*', repl=' ', string=train_data.loc[i,'text'])\n",
    "train_data[\"score\"] = train_data[\"score\"].astype('category')\n",
    "train_data[\"score_label\"] = train_data[\"score\"].cat.codes\n",
    "train_features, train_labels = train_data['text'], tf.one_hot(\n",
    "    train_data[\"score_label\"], 3)\n",
    "sentiment = {0:'Negative',1:'Neutral',2:'Positive'}\n",
    "\n",
    "\n",
    "vocab_size = 15000\n",
    "vector_size = 300\n",
    "max_seq_len = 32\n",
    "tokenizer = Tokenizer(oov_token=\"<OOV>\", num_words=vocab_size)\n",
    "tokenizer.fit_on_texts(train_data['text'])\n",
    "sequences_train = tokenizer.texts_to_sequences(train_data['text'])\n",
    "\n",
    "# path to model\n",
    "model = tf.keras.models.load_model('models/tweets_lstm1.keras')\n",
    "p = (model.predict(padded_train)> 0.5).astype(\"int32\")\n",
    "predict = np.array(tf.argmax(p, axis=1))\n"
   ]
  },
  {
   "cell_type": "code",
   "execution_count": 40,
   "metadata": {},
   "outputs": [
    {
     "name": "stdout",
     "output_type": "stream",
     "text": [
      "Comment: produto não recomendo não ler em nenhum dispositivo\n",
      "Sentiment: Neutral\n"
     ]
    }
   ],
   "source": [
    "print('Comment:',comment)\n",
    "print('Sentiment:',sentiment[predict[0]])"
   ]
  }
 ],
 "metadata": {
  "kernelspec": {
   "display_name": ".venv",
   "language": "python",
   "name": "python3"
  },
  "language_info": {
   "codemirror_mode": {
    "name": "ipython",
    "version": 3
   },
   "file_extension": ".py",
   "mimetype": "text/x-python",
   "name": "python",
   "nbconvert_exporter": "python",
   "pygments_lexer": "ipython3",
   "version": "3.9.6"
  }
 },
 "nbformat": 4,
 "nbformat_minor": 2
}
